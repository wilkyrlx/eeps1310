{
 "cells": [
  {
   "cell_type": "markdown",
   "id": "7d8405ee",
   "metadata": {},
   "source": [
    "# Homework 3\n",
    "\n",
    "<span style=\"background-color: #FFFF00\">I would like to apply 2 late days for this assignment. Thank you!</span>"
   ]
  },
  {
   "cell_type": "markdown",
   "id": "ebf68ad3",
   "metadata": {},
   "source": [
    "### Question 1: Define/explain the following terms (10 points):\n",
    "*(1) Curvature and solute effects for cloud droplet formation.*\n",
    "\n",
    "The curvature effect describes how smaller droplets of water evaporate more easily. Curved surfaces have fewer molecules than flat surfaces, which means it is easier for these molecules to break aparts and cause their respective droplets to evaporate. As a result, these smaller droplets might evaporate before they can form clouds.\n",
    "\n",
    "The solute effect describes how certain solutes bind with water ions, and these stronger bonds cause the water molecules to stick together more. As such, it is easier for large droplets to form, which in turn makes cloud droplet formation more common. In this sense, solutes \"seed\" the atmosphere by allowing water drop nuclei founndations to form around. \n",
    "\n",
    "*(2) Growth of raindrops by coalescence*\n",
    "\n",
    "Droplets get most of their growth through coalescence, as condensation has considerably less impact on droplet size. Coalescence is when two smaller droplets collide - i.e. when the distance between their drop centers is less than or equal to the sum of their radii. Surface tension then causes them to merge and form a bigger droplet.\n"
   ]
  },
  {
   "cell_type": "markdown",
   "id": "4e59c174",
   "metadata": {},
   "source": [
    "### Question 2: Marshall-Palmer distribution (20 points):\n"
   ]
  },
  {
   "cell_type": "code",
   "execution_count": 23,
   "id": "b2d2bb1d",
   "metadata": {},
   "outputs": [
    {
     "data": {
      "image/png": "[encoded data removed]",
      "text/plain": [
       "<Figure size 432x288 with 1 Axes>"
      ]
     },
     "metadata": {
      "needs_background": "light"
     },
     "output_type": "display_data"
    }
   ],
   "source": [
    "import numpy as np\n",
    "import matplotlib.pyplot as plt\n",
    "\n",
    "# Define the range of rainfall rates (mm per hour, mmhr^-1) and drop diameters (mm)\n",
    "R = [2.0, 20.0]\n",
    "D = np.linspace(0.0001, 1, 1000)\n",
    "\n",
    "def lambda_value(R):\n",
    "    return 41 * R ** (-0.21)\n",
    "\n",
    "# Calculate the number density ND for each rainfall rate\n",
    "ND = {}\n",
    "for r in R:\n",
    "    ND[r] = 8000 * np.exp(-lambda_value(r) * D)\n",
    "\n",
    "# Plot everything\n",
    "fig, ax = plt.subplots()\n",
    "for r in R:\n",
    "    ax.plot(D, ND[r], label=f'R = {r} mm/hr')\n",
    "plt.xlabel('Drop Diameter (mm)')\n",
    "plt.ylabel('Number Distribution') # should this be density or distribution?\n",
    "plt.title('Marshall-Palmer Distribution')\n",
    "plt.legend()\n",
    "plt.show()"
   ]
  },
  {
   "cell_type": "code",
   "execution_count": 36,
   "id": "0920fc63",
   "metadata": {},
   "outputs": [
    {
     "name": "stdout",
     "output_type": "stream",
     "text": [
      "Approximate diameter that contributes most to total mass:\n",
      "At precipitation rate of 2.0 mm/hr: 0.08 mm\n",
      "At precipitation rate of 20.0 mm/hr: 0.14 mm\n"
     ]
    }
   ],
   "source": [
    "# Calculate the mass per unit volume for each rainfall rate\n",
    "density_water = 1000  # kg*m^-3\n",
    "mass_per_vol = {}\n",
    "\n",
    "# get the mass of a rain drop given a diamter\n",
    "def mass_drop(diameter):\n",
    "    return (4/3) * (diameter / 2)**3 * np.pi * density_water\n",
    "\n",
    "for r in R:\n",
    "    mass_per_vol[r] = ND[r] * mass_drop(D)\n",
    "\n",
    "# Find the approximate diameter that contributes most to total mass for each rainfall rate\n",
    "max_d = {}\n",
    "for r in R:\n",
    "    max_d[r] = D[np.argmax(mass_per_vol[r])]\n",
    "\n",
    "\n",
    "print('Approximate diameter that contributes most to total mass:')\n",
    "for r in R:\n",
    "    print(f'At precipitation rate of {r} mm/hr: {round(max_d[r], 2)} mm')"
   ]
  },
  {
   "cell_type": "markdown",
   "id": "abe613a9",
   "metadata": {},
   "source": [
    "### Question 3: Distribution of low, middle, and high level clouds (20 points):\n",
    "*Using the International Satellite Cloud Climatology Project (ISCCP) cloud distribution\n",
    "data (ISCCP.cloud.clim.nc), explain the distribution of low, middle, and high level clouds\n",
    "in relation to the large-scale atmospheric circulation or climate regimes. For example,\n",
    "certain types of clouds are dominant over the upper branch of the Hadley Cell or where\n",
    "ocean temperature is cold.*"
   ]
  },
  {
   "cell_type": "code",
   "execution_count": 37,
   "id": "0a16cc9f",
   "metadata": {},
   "outputs": [
    {
     "ename": "ModuleNotFoundError",
     "evalue": "No module named 'xarray'",
     "output_type": "error",
     "traceback": [
      "\u001b[1;31m---------------------------------------------------------------------------\u001b[0m",
      "\u001b[1;31mModuleNotFoundError\u001b[0m                       Traceback (most recent call last)",
      "Input \u001b[1;32mIn [37]\u001b[0m, in \u001b[0;36m<cell line: 3>\u001b[1;34m()\u001b[0m\n\u001b[0;32m      1\u001b[0m \u001b[38;5;28;01mimport\u001b[39;00m \u001b[38;5;21;01mmatplotlib\u001b[39;00m\u001b[38;5;21;01m.\u001b[39;00m\u001b[38;5;21;01mpyplot\u001b[39;00m \u001b[38;5;28;01mas\u001b[39;00m \u001b[38;5;21;01mplt\u001b[39;00m\n\u001b[0;32m      2\u001b[0m \u001b[38;5;28;01mimport\u001b[39;00m \u001b[38;5;21;01mnumpy\u001b[39;00m \u001b[38;5;28;01mas\u001b[39;00m \u001b[38;5;21;01mnp\u001b[39;00m\n\u001b[1;32m----> 3\u001b[0m \u001b[38;5;28;01mimport\u001b[39;00m \u001b[38;5;21;01mxarray\u001b[39;00m \u001b[38;5;28;01mas\u001b[39;00m \u001b[38;5;21;01mxr\u001b[39;00m\n\u001b[0;32m      5\u001b[0m filename\u001b[38;5;241m=\u001b[39m\u001b[38;5;124m'\u001b[39m\u001b[38;5;124mISCCP.cloud.clim.nc\u001b[39m\u001b[38;5;124m'\u001b[39m\n\u001b[0;32m      6\u001b[0m ds1\u001b[38;5;241m=\u001b[39mxr\u001b[38;5;241m.\u001b[39mopen_dataset(filename)\n",
      "\u001b[1;31mModuleNotFoundError\u001b[0m: No module named 'xarray'"
     ]
    }
   ],
   "source": [
    "import matplotlib.pyplot as plt\n",
    "import numpy as np\n",
    "import xarray as xr\n",
    "\n",
    "filename='ISCCP.cloud.clim.nc'\n",
    "ds1=xr.open_dataset(filename)\n",
    "ds1.close()"
   ]
  },
  {
   "cell_type": "markdown",
   "id": "d201a0e0",
   "metadata": {},
   "source": [
    "### Question 4: Derive the dry adiabatic lapse rate starting from the 1st law of thermodynamics (10 points):"
   ]
  }
 ],
 "metadata": {
  "kernelspec": {
   "display_name": "Python 3 (ipykernel)",
   "language": "python",
   "name": "python3"
  },
  "language_info": {
   "codemirror_mode": {
    "name": "ipython",
    "version": 3
   },
   "file_extension": ".py",
   "mimetype": "text/x-python",
   "name": "python",
   "nbconvert_exporter": "python",
   "pygments_lexer": "ipython3",
   "version": "3.9.10"
  }
 },
 "nbformat": 4,
 "nbformat_minor": 5
}
