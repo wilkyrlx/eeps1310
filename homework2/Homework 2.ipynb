{
 "cells": [
  {
   "attachments": {},
   "cell_type": "markdown",
   "id": "af59a03a",
   "metadata": {},
   "source": [
    "1a) Explain the following terms with a few sentences and/or a simple diagram: (10 pts)\n",
    "- Trade winds: the trade winds are a term used to describe East to West winds near the equator. Trade winds are caused by a combination of coriolis and Hadley Cell circulation. In the Southern Hemisphere, the trades blow towards the North-West, while the trades in the Northern Hemisphere blow towards the South-West.\n",
    "- Hadley Circulation: Hadley circulation describes air circulation near the equator caused by Hadley cells. Essentially, air near the equator is often low-pressure and hot, caused by trade winds as well as more radiaton from the sun. This causes air to rise near the equator, where it then moves towards the poles at a high altitude, where it cools and descends before getting pushed back towards the equator.\n",
    "- Walker Circulation: Walker circulation describes air circulation from the Americas eastwards across the Pacific. It is caused by cool zones on the West of the Americas causing air to be pushed East, aided by the trade winds, until it reaches warmer waters where it will rise, go West, and then fall, continuing the cycle.\n",
    "- Bjerknes feedback\n",
    "- El Niño/La Niña\n",
    "\n",
    "1b) What are the most prominent features of mean upper atmospheric (~10km) circulation. (5 pts)\n",
    "\n",
    "---"
   ]
  },
  {
   "cell_type": "markdown",
   "id": "4ecc419c",
   "metadata": {},
   "source": [
    "2a) See El Nino Jupyter Notebook\n",
    "\n",
    "2b) If El Nino/La Nina years are defined by when the SST anomaly is greater than 1oC \n",
    "(absolute value), which years from your plot are El Nino or La Niña years? Please choose \n",
    "2 years for both cases. Which event (La Niña or El Niño) corresponds to a positive SST \n",
    "anomaly and which one corresponds to a negative SST anomaly? (5 pts)\n",
    "\n",
    "---"
   ]
  },
  {
   "cell_type": "markdown",
   "id": "82369f14",
   "metadata": {},
   "source": [
    "3) 06_wind_n_pressure.ipynb and plot average wind and SST for January and July in the \n",
    "tropical Pacific. For SST, use the values in Problem 2 above (1981-2020 \n",
    "HadISST_sst.nc). Describe the west-east SST gradient in the South Pacific and wind \n",
    "speed in both seasons (10 points).\n",
    "\n",
    "---"
   ]
  },
  {
   "cell_type": "markdown",
   "id": "6b3f1a69",
   "metadata": {},
   "source": [
    "4) Choose 1 El Niño and La Niña years and plot SST anomalies and wind anomalies. Use \n",
    "the data below:\n",
    "[uw wind](http://psl.noaa.gov/thredds/dodsC/Datasets/ncep.reanalysis2/Monthlies/gaussian_grid/uw\n",
    "nd.10m.mon.mean.nc)\n",
    "[vw wind](http://psl.noaa.gov/thredds/dodsC/Datasets/ncep.reanalysis2/Monthlies/gaussian_grid/vw\n",
    "nd.10m.mon.mean.nc)\n",
    "\n",
    "Use the same period as in Problem 2 above (1981-2020) for the climatological means. \n",
    "You can choose 1 month and plot the anomaly map (e.g. January 1998). Describe the \n",
    "west-east SST gradient in the South Pacific and wind speed in both El Niño and La Niña \n",
    "cases (15 points)."
   ]
  },
  {
   "cell_type": "code",
   "execution_count": null,
   "id": "3d28edba",
   "metadata": {},
   "outputs": [],
   "source": []
  }
 ],
 "metadata": {
  "kernelspec": {
   "display_name": "Python 3 (ipykernel)",
   "language": "python",
   "name": "python3"
  },
  "language_info": {
   "codemirror_mode": {
    "name": "ipython",
    "version": 3
   },
   "file_extension": ".py",
   "mimetype": "text/x-python",
   "name": "python",
   "nbconvert_exporter": "python",
   "pygments_lexer": "ipython3",
   "version": "3.9.10"
  }
 },
 "nbformat": 4,
 "nbformat_minor": 5
}
