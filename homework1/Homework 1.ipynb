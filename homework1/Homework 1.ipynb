{
 "cells": [
  {
   "cell_type": "markdown",
   "id": "caea5396",
   "metadata": {},
   "source": [
    "### 1) Give three reasons why water vapor is important for weather and climate. \n",
    "1. Water vapor is necessary for precipitation to occur. Put simply, water becomes water vapor (the gaseous form) with heat, which is able to rise until it condenses and then falls back to Earth as precipitation. This has implications for the water cycle, since precipitation provides water to regions not near any fixed bodies of water since clouds can move.\n",
    "2. Water vapor is also an important factor in the rate at which water evaporates. As demonstrated in our evaporation/evapotranspiration formulas, it is easier for water to evaporate in dry environments (less relative humidity) than moist environments (high relative humidity)\n",
    "3. As mentioned before, water vapor forms clouds. Aside from precipitation, clouds affect weather by reflecting incoming solar radiation/sunlight. This definitely affects temperature and climate"
   ]
  },
  {
   "cell_type": "markdown",
   "id": "ff535b72",
   "metadata": {},
   "source": [
    "### 2) Define the following terms:\n",
    "- Specific humidity: the specific mass of water vapor in a specific mass of air\n",
    "- Mixing ratio of water vapor\n",
    "- Transpiration\n",
    "- What factors influence the land evapotranspiration rate?\n",
    "- What factors influence evaporation over the ocean?\n"
   ]
  },
  {
   "cell_type": "markdown",
   "id": "db5f5d6f",
   "metadata": {},
   "source": [
    "### 3) Causius-Clapeyron"
   ]
  },
  {
   "cell_type": "code",
   "execution_count": 1,
   "id": "9158d8ef",
   "metadata": {},
   "outputs": [
    {
     "data": {
      "image/png": "[encoded data removed]",
      "text/plain": [
       "<Figure size 432x288 with 1 Axes>"
      ]
     },
     "metadata": {
      "needs_background": "light"
     },
     "output_type": "display_data"
    }
   ],
   "source": [
    "import matplotlib.pyplot as plt\n",
    "import numpy as np\n",
    "\n",
    "# This function calculates the vapor pressure of water at a given temperature, using the Clausius-Clapeyron equation.\n",
    "# The equation is as follows: e = 0.611 ** ((17.502 * T) / (240.97 + T))\n",
    "# Where e is the vapor pressure in kPa, and T is the temperature in degrees Celsius.\n",
    "def clausius_clapeyron(T): \n",
    "    return 0.611 ** ((17.502 * T) / (240.97 + T))\n",
    "\n",
    "# This function plots a the vapor pressure along a range of temperatures\n",
    "# Temperatures should be in degrees Celcius\n",
    "def plot_range(start, end):\n",
    "    temperatures = np.arange(start, end, 1)\n",
    "    vapor_pressures = [clausius_clapeyron(t) for t in temperatures]\n",
    "\n",
    "    plt.plot(temperatures, vapor_pressures)\n",
    "    plt.xlabel(\"Temperature (C)\")\n",
    "    plt.ylabel(\"Vapor Pressure (kPa)\")\n",
    "    plt.show()\n",
    "\n",
    "plot_range(0, 40)"
   ]
  },
  {
   "cell_type": "markdown",
   "id": "6aea0fda",
   "metadata": {},
   "source": [
    "### 4) Latent Heat\n",
    "1. For one square meter with a depth of 1 meter, we know that we have 1 $m^3$ of water, which is equal to 1000 kg in mass. Therefore, we can calculate the energy required, x, as $x = 1000 kg * (2.5 * 10^6 J/kg) = 2.5 * 10^9 J$\n",
    "<br>\n",
    "Therefore, one would need $2.5 * 10^9 J$ to evaporate one cubic meter of swamp water.\n",
    "2. To calculate the rate of energy, we must use the equation rate = required energy / time (in seconds). Therefore, let us calculate, assuming 31,536,000 seconds in a year. Therefore, when r is rate, $r = 2.5 * 10^9 J / 31,536,000 s = 79.4 J/s/m^2 = 79.4 W/m^2$. Therefore, the rate is $79.4 W/m^2$\n",
    "3. $\\frac{79.4 W/m^2}{342 W/m^2}$, which simplifies to $\\approx 0.23 W/m^2$"
   ]
  },
  {
   "cell_type": "markdown",
   "id": "8382c77b",
   "metadata": {},
   "source": [
    "### 5) Evaporation"
   ]
  },
  {
   "cell_type": "code",
   "execution_count": null,
   "id": "7f93d750",
   "metadata": {},
   "outputs": [],
   "source": []
  }
 ],
 "metadata": {
  "kernelspec": {
   "display_name": "eeps-env",
   "language": "python",
   "name": "python3"
  },
  "language_info": {
   "codemirror_mode": {
    "name": "ipython",
    "version": 3
   },
   "file_extension": ".py",
   "mimetype": "text/x-python",
   "name": "python",
   "nbconvert_exporter": "python",
   "pygments_lexer": "ipython3",
   "version": "3.9.16"
  },
  "vscode": {
   "interpreter": {
    "hash": "ac750dac82087e56342320fbd27145342ef723b2b7d38b137510b0e9515886f8"
   }
  }
 },
 "nbformat": 4,
 "nbformat_minor": 5
}
